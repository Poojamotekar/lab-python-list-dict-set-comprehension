{
 "cells": [
  {
   "cell_type": "markdown",
   "metadata": {},
   "source": [
    "# Lab | List, Dict and Set Comprehension"
   ]
  },
  {
   "cell_type": "markdown",
   "metadata": {},
   "source": [
    "## Exercise: Managing Customer Orders Optimized with Comprehension"
   ]
  },
  {
   "cell_type": "markdown",
   "metadata": {},
   "source": [
    "In the previous exercise, you developed a program to manage customer orders and inventory. Now, let's take it a step further and incorporate comprehension into your code.\n",
    "\n",
    "Follow the steps below to complete the exercise:\n",
    "\n",
    "1. Review your code from the previous exercise and identify areas where you can apply comprehension to simplify and streamline your code. \n",
    "\n",
    "    - *Hint: Apply it to initialize inventory, updating the inventory and printing the updated inventory.*\n",
    "    \n",
    "    - For example, in initializing the inventory, we could have:\n",
    "    \n",
    "        ```python\n",
    "        def initialize_inventory(products):\n",
    "            inventory = {product: int(input(f\"Enter the quantity of {product}s available: \")) for product in products}\n",
    "            return inventory\n",
    "\n",
    "        ```\n",
    "<br>\n",
    "    \n",
    "    \n",
    "2. Modify the function get_customer_orders so it prompts the user to enter the number of customer orders and gathers the product names using a loop and user input. Use comprehension.\n",
    "\n",
    "3. Add a new function to calculate the total price of the customer order. For each product in customer_orders, prompt the user to enter the price of that product. Use comprehension to calculate the total price. Note: assume that the user can only have 1 unit of each product.\n",
    "\n",
    "4. Modify the update_inventory function to remove the product from the inventory if its quantity becomes zero after fulfilling the customer orders. Use comprehension to filter out the products with a quantity of zero from the inventory.\n",
    "\n",
    "5. Print the total price of the customer order.\n",
    "\n",
    "Your code should produce output similar to the following:\n",
    "\n",
    "```python\n",
    "Enter the quantity of t-shirts available:  5\n",
    "Enter the quantity of mugs available:  4\n",
    "Enter the quantity of hats available:  3\n",
    "Enter the quantity of books available:  2\n",
    "Enter the quantity of keychains available:  1\n",
    "Enter the number of customer orders:  2\n",
    "Enter the name of a product that a customer wants to order:  hat\n",
    "Enter the name of a product that a customer wants to order:  keychain\n",
    "\n",
    "Order Statistics:\n",
    "Total Products Ordered: 2\n",
    "Percentage of Unique Products Ordered: 40.0\n",
    "\n",
    "Updated Inventory:\n",
    "t-shirt: 5\n",
    "mug: 4\n",
    "hat: 2\n",
    "book: 2\n",
    "Enter the price of keychain:  5\n",
    "Enter the price of hat:  10\n",
    "Total Price: 15.0\n",
    "\n",
    "```\n"
   ]
  },
  {
   "cell_type": "code",
   "execution_count": 3,
   "metadata": {},
   "outputs": [],
   "source": [
    "def initialize_inventory(Products):\n",
    "    #inventory={}\n",
    "    inventory = {product: int(input(f\"Enter the quantity of {product}s available: \")) for product in Products}\n",
    "    return inventory\n",
    "    \"\"\"for product in Products:\n",
    "        quantity =int(input(f\"input the quantity of each {product}\"))\n",
    "        inventory[product]=quantity\n",
    "    return inventory\"\"\""
   ]
  },
  {
   "cell_type": "code",
   "execution_count": 4,
   "metadata": {},
   "outputs": [
    {
     "name": "stdout",
     "output_type": "stream",
     "text": [
      "Enter the quantity of apples available: 2\n",
      "Enter the quantity of bananas available: 3\n",
      "Enter the quantity of oranges available: 4\n"
     ]
    }
   ],
   "source": [
    "Products_list = [\"apple\", \"banana\", \"orange\"]  # Replace with your actual product list\n",
    "initial_inventory = initialize_inventory(Products_list)"
   ]
  },
  {
   "cell_type": "raw",
   "metadata": {},
   "source": [
    "Modify the function get_customer_orders so it prompts the user to enter the number of customer orders and gathers the product names using a loop and user input. Use comprehension."
   ]
  },
  {
   "cell_type": "code",
   "execution_count": 9,
   "metadata": {},
   "outputs": [
    {
     "name": "stdout",
     "output_type": "stream",
     "text": [
      "Enter the number of orders: 2\n",
      "Enter a product name: banana\n",
      "Enter a product name: apple\n",
      "Enter a product name: kiwi\n",
      "Customer orders: {'apple'}\n"
     ]
    }
   ],
   "source": [
    "def get_customer_orders(inventory):\n",
    "    customer_orders = set()\n",
    "    try:\n",
    "        num_orders = int(input(\"Enter the number of orders: \"))\n",
    "        if num_orders <= 0:\n",
    "            print(\"Invalid number of orders! Please enter a positive integer.\")\n",
    "            return customer_orders\n",
    "\n",
    "        customer_orders = {input(\"Enter a product name: \") for _ in range(num_orders) if input(\"Enter a product name: \") in inventory}\n",
    "\n",
    "    except ValueError:\n",
    "        print(\"Invalid input! Please enter a positive integer for the number of orders.\")\n",
    "\n",
    "    return customer_orders\n",
    "\n",
    "# Example usage:\n",
    "inventory = {\"apple\", \"banana\", \"orange\"}\n",
    "customer_orders_set = get_customer_orders(inventory)\n",
    "print(\"Customer orders:\", customer_orders_set)\n"
   ]
  },
  {
   "cell_type": "code",
   "execution_count": 10,
   "metadata": {},
   "outputs": [
    {
     "name": "stdout",
     "output_type": "stream",
     "text": [
      "Enter the price for Apples: 3\n",
      "Enter the price for Bananas: 5\n",
      "Enter the price for Oranges: 7\n",
      "Total order price: $15.00\n"
     ]
    }
   ],
   "source": [
    "def calculate_total_price(customer_orders):\n",
    "    total_price = 0.0\n",
    "    \n",
    "    try:\n",
    "        total_price = sum(float(input(f\"Enter the price for {product}: \")) for product in customer_orders)\n",
    "    except ValueError:\n",
    "        print(\"Invalid input! Please enter a numeric value.\")\n",
    "\n",
    "    return total_price\n",
    "\n",
    "customer_orders = {\n",
    "    \"Apples\": 2,\n",
    "    \"Bananas\": 3,\n",
    "    \"Oranges\": 1\n",
    "}\n",
    "\n",
    "total_order_price = calculate_total_price(customer_orders)\n",
    "print(f\"Total order price: ${total_order_price:.2f}\")\n"
   ]
  },
  {
   "cell_type": "code",
   "execution_count": 11,
   "metadata": {},
   "outputs": [
    {
     "name": "stdout",
     "output_type": "stream",
     "text": [
      "Updated inventory: {'apple': 3, 'orange': 1}\n"
     ]
    }
   ],
   "source": [
    "def update_inventory(customer_orders, inventory):\n",
    "    inventory = {product: quantity - customer_orders.get(product, 0) for product, quantity in inventory.items()}\n",
    "    inventory = {product: quantity for product, quantity in inventory.items() if quantity > 0}\n",
    "    return inventory\n",
    "\n",
    "# Example usage:\n",
    "customer_orders = {\n",
    "    \"apple\": 2,\n",
    "    \"banana\": 3,\n",
    "    \"orange\": 1\n",
    "}\n",
    "inventory = {\n",
    "    \"apple\": 5,\n",
    "    \"banana\": 0,\n",
    "    \"orange\": 2\n",
    "}\n",
    "updated_inventory = update_inventory(customer_orders, inventory)\n",
    "print(\"Updated inventory:\", updated_inventory)\n"
   ]
  },
  {
   "cell_type": "code",
   "execution_count": null,
   "metadata": {},
   "outputs": [],
   "source": []
  }
 ],
 "metadata": {
  "kernelspec": {
   "display_name": "Python 3",
   "language": "python",
   "name": "python3"
  },
  "language_info": {
   "codemirror_mode": {
    "name": "ipython",
    "version": 3
   },
   "file_extension": ".py",
   "mimetype": "text/x-python",
   "name": "python",
   "nbconvert_exporter": "python",
   "pygments_lexer": "ipython3",
   "version": "3.8.5"
  }
 },
 "nbformat": 4,
 "nbformat_minor": 5
}
